{
  "nbformat": 4,
  "nbformat_minor": 0,
  "metadata": {
    "colab": {
      "provenance": []
    },
    "kernelspec": {
      "name": "python3",
      "display_name": "Python 3"
    },
    "language_info": {
      "name": "python"
    }
  },
  "cells": [
    {
      "cell_type": "markdown",
      "source": [
        "Disciplina: **Mineração de Dados**\n",
        "\n",
        "Professor: **Wilson Castello Branco Neto**\n",
        "\n",
        "Aula 3 - Limpeza de Dados - Atividade 1\n",
        "\n",
        "Nome: Wilson Castello Branco Neto"
      ],
      "metadata": {
        "id": "_N4xFKsA8-B7"
      }
    },
    {
      "cell_type": "markdown",
      "source": [
        "**Dataset**: Salary dataset based on country and race\n",
        "\n",
        "Disponível em: https://www.kaggle.com/datasets/sudheerp2147234/salary-dataset-based-on-country-and-race\n"
      ],
      "metadata": {
        "id": "Lx-FZgCy9Eq6"
      }
    },
    {
      "cell_type": "markdown",
      "source": [
        "1.  Importe o dataset indicado e apresente seus dados, os tipos de cada uma de suas colunas e suas estatísticas básicas.\n",
        "2.  Elimine a coluna Unnamed: 0.\n",
        "3.  Verifique quantos valores ausentes (nulos) existem em cada atributo e elimine as linhas que contenham algum valor nulo.\n",
        "4. Conte a quantidade de linhas duplicadas e elimine estas linhas.\n",
        "5. Apresente e depois elimine os outliers do campo salário. Considere que um outlier será dado pelo valor da média +- 2 vezes o seu desvio padrão.\n",
        "6. Verifique se há alguma dado inconsistente considerando os campos idade e anos de experiência. Considere que as pessoas só podem começar a trabalhar após os 16 anos de idade.\n",
        "7.  Analise os dados e aplique mais alguma melhoria ao dataset resultante das transformações anteriores."
      ],
      "metadata": {
        "id": "1ucwHFhRCbwQ"
      }
    }
  ]
}
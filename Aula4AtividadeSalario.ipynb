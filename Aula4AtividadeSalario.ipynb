{
  "nbformat": 4,
  "nbformat_minor": 0,
  "metadata": {
    "colab": {
      "provenance": []
    },
    "kernelspec": {
      "name": "python3",
      "display_name": "Python 3"
    },
    "language_info": {
      "name": "python"
    }
  },
  "cells": [
    {
      "cell_type": "markdown",
      "source": [
        "Disciplina: **Mineração de Dados**\n",
        "\n",
        "Professor: **Wilson Castello Branco Neto**\n",
        "\n",
        "Aula 4 - Conhecendo os Dados - Atividade Salário\n",
        "\n",
        "Nome: Wilson Castello Branco Neto"
      ],
      "metadata": {
        "id": "_N4xFKsA8-B7"
      }
    },
    {
      "cell_type": "markdown",
      "source": [
        "**Dataset**: Salary dataset based on country and race\n",
        "\n",
        "Disponível em: https://www.kaggle.com/datasets/sudheerp2147234/salary-dataset-based-on-country-and-race\n"
      ],
      "metadata": {
        "id": "Lx-FZgCy9Eq6"
      }
    },
    {
      "cell_type": "markdown",
      "source": [
        "Após executar a célula abaixo, que lê o dataset utilizado no notebook elaborado na Aula 3 - Atividade 1 e executa os passos já implementados na aula passada, implemente as seguintes funções solicitadas. Sempre que for solicitada a criação de um gráfico, deve-se gerar duas versões do mesmo gráfico, uma usando o matplotlib e outra usando o seaborn."
      ],
      "metadata": {
        "id": "1ucwHFhRCbwQ"
      }
    },
    {
      "cell_type": "code",
      "source": [
        "import pandas as pd\n",
        "import numpy as np\n",
        "import seaborn as sns\n",
        "from google.colab import drive\n",
        "\n",
        "drive.mount('/content/gdrive')\n",
        "df = pd.read_csv('/content/gdrive/MyDrive/Colab Notebooks/Mineração de Dados/Aula3/Salary_Data_Based_country_and_race.csv')\n",
        "df.drop('Unnamed: 0',axis=1, inplace=True)\n",
        "df.dropna(inplace=True)\n",
        "df.drop_duplicates(inplace=True)\n",
        "li = df['Salary'].mean() - 2 * df['Salary'].std()\n",
        "ls = df['Salary'].mean() + 2 * df['Salary'].std()\n",
        "df = df[(df['Salary']>=li) & (df['Salary']<=ls)]\n",
        "df = df[(df['Age'] - df['Years of Experience'])>=16]\n",
        "df.loc[df['Education Level'] == 'phD', 'Education Level'] = 'PhD'\n",
        "df.loc[df['Education Level'] == \"Bachelor's Degree\", 'Education Level'] = \"Bachelor's\"\n",
        "df.loc[df['Education Level'] == \"Master's Degree\",'Education Level'] = \"Master's\"\n",
        "\n",
        "df"
      ],
      "metadata": {
        "id": "Q5wc0eWJ9TTC",
        "colab": {
          "base_uri": "https://localhost:8080/",
          "height": 461
        },
        "outputId": "4818a259-c40a-40d8-9441-f69b2f73653c"
      },
      "execution_count": null,
      "outputs": [
        {
          "output_type": "stream",
          "name": "stdout",
          "text": [
            "Drive already mounted at /content/gdrive; to attempt to forcibly remount, call drive.mount(\"/content/gdrive\", force_remount=True).\n"
          ]
        },
        {
          "output_type": "execute_result",
          "data": {
            "text/plain": [
              "       Age  Gender Education Level                    Job Title  \\\n",
              "0     32.0    Male      Bachelor's            Software Engineer   \n",
              "1     28.0  Female        Master's                 Data Analyst   \n",
              "2     45.0    Male             PhD               Senior Manager   \n",
              "3     36.0  Female      Bachelor's              Sales Associate   \n",
              "4     52.0    Male        Master's                     Director   \n",
              "...    ...     ...             ...                          ...   \n",
              "6698  37.0    Male      Bachelor's  Junior Sales Representative   \n",
              "6699  49.0  Female             PhD        Director of Marketing   \n",
              "6700  32.0    Male     High School              Sales Associate   \n",
              "6701  30.0  Female      Bachelor's            Financial Manager   \n",
              "6702  46.0    Male        Master's            Marketing Manager   \n",
              "\n",
              "      Years of Experience    Salary    Country        Race  \n",
              "0                     5.0   90000.0         UK       White  \n",
              "1                     3.0   65000.0        USA    Hispanic  \n",
              "2                    15.0  150000.0     Canada       White  \n",
              "3                     7.0   60000.0        USA    Hispanic  \n",
              "4                    20.0  200000.0        USA       Asian  \n",
              "...                   ...       ...        ...         ...  \n",
              "6698                  6.0   75000.0     Canada       Asian  \n",
              "6699                 20.0  200000.0         UK       Mixed  \n",
              "6700                  3.0   50000.0  Australia  Australian  \n",
              "6701                  4.0   55000.0      China     Chinese  \n",
              "6702                 14.0  140000.0      China      Korean  \n",
              "\n",
              "[5131 rows x 8 columns]"
            ],
            "text/html": [
              "\n",
              "  <div id=\"df-3bfaa3ba-80e3-478a-833c-15c2660844b6\" class=\"colab-df-container\">\n",
              "    <div>\n",
              "<style scoped>\n",
              "    .dataframe tbody tr th:only-of-type {\n",
              "        vertical-align: middle;\n",
              "    }\n",
              "\n",
              "    .dataframe tbody tr th {\n",
              "        vertical-align: top;\n",
              "    }\n",
              "\n",
              "    .dataframe thead th {\n",
              "        text-align: right;\n",
              "    }\n",
              "</style>\n",
              "<table border=\"1\" class=\"dataframe\">\n",
              "  <thead>\n",
              "    <tr style=\"text-align: right;\">\n",
              "      <th></th>\n",
              "      <th>Age</th>\n",
              "      <th>Gender</th>\n",
              "      <th>Education Level</th>\n",
              "      <th>Job Title</th>\n",
              "      <th>Years of Experience</th>\n",
              "      <th>Salary</th>\n",
              "      <th>Country</th>\n",
              "      <th>Race</th>\n",
              "    </tr>\n",
              "  </thead>\n",
              "  <tbody>\n",
              "    <tr>\n",
              "      <th>0</th>\n",
              "      <td>32.0</td>\n",
              "      <td>Male</td>\n",
              "      <td>Bachelor's</td>\n",
              "      <td>Software Engineer</td>\n",
              "      <td>5.0</td>\n",
              "      <td>90000.0</td>\n",
              "      <td>UK</td>\n",
              "      <td>White</td>\n",
              "    </tr>\n",
              "    <tr>\n",
              "      <th>1</th>\n",
              "      <td>28.0</td>\n",
              "      <td>Female</td>\n",
              "      <td>Master's</td>\n",
              "      <td>Data Analyst</td>\n",
              "      <td>3.0</td>\n",
              "      <td>65000.0</td>\n",
              "      <td>USA</td>\n",
              "      <td>Hispanic</td>\n",
              "    </tr>\n",
              "    <tr>\n",
              "      <th>2</th>\n",
              "      <td>45.0</td>\n",
              "      <td>Male</td>\n",
              "      <td>PhD</td>\n",
              "      <td>Senior Manager</td>\n",
              "      <td>15.0</td>\n",
              "      <td>150000.0</td>\n",
              "      <td>Canada</td>\n",
              "      <td>White</td>\n",
              "    </tr>\n",
              "    <tr>\n",
              "      <th>3</th>\n",
              "      <td>36.0</td>\n",
              "      <td>Female</td>\n",
              "      <td>Bachelor's</td>\n",
              "      <td>Sales Associate</td>\n",
              "      <td>7.0</td>\n",
              "      <td>60000.0</td>\n",
              "      <td>USA</td>\n",
              "      <td>Hispanic</td>\n",
              "    </tr>\n",
              "    <tr>\n",
              "      <th>4</th>\n",
              "      <td>52.0</td>\n",
              "      <td>Male</td>\n",
              "      <td>Master's</td>\n",
              "      <td>Director</td>\n",
              "      <td>20.0</td>\n",
              "      <td>200000.0</td>\n",
              "      <td>USA</td>\n",
              "      <td>Asian</td>\n",
              "    </tr>\n",
              "    <tr>\n",
              "      <th>...</th>\n",
              "      <td>...</td>\n",
              "      <td>...</td>\n",
              "      <td>...</td>\n",
              "      <td>...</td>\n",
              "      <td>...</td>\n",
              "      <td>...</td>\n",
              "      <td>...</td>\n",
              "      <td>...</td>\n",
              "    </tr>\n",
              "    <tr>\n",
              "      <th>6698</th>\n",
              "      <td>37.0</td>\n",
              "      <td>Male</td>\n",
              "      <td>Bachelor's</td>\n",
              "      <td>Junior Sales Representative</td>\n",
              "      <td>6.0</td>\n",
              "      <td>75000.0</td>\n",
              "      <td>Canada</td>\n",
              "      <td>Asian</td>\n",
              "    </tr>\n",
              "    <tr>\n",
              "      <th>6699</th>\n",
              "      <td>49.0</td>\n",
              "      <td>Female</td>\n",
              "      <td>PhD</td>\n",
              "      <td>Director of Marketing</td>\n",
              "      <td>20.0</td>\n",
              "      <td>200000.0</td>\n",
              "      <td>UK</td>\n",
              "      <td>Mixed</td>\n",
              "    </tr>\n",
              "    <tr>\n",
              "      <th>6700</th>\n",
              "      <td>32.0</td>\n",
              "      <td>Male</td>\n",
              "      <td>High School</td>\n",
              "      <td>Sales Associate</td>\n",
              "      <td>3.0</td>\n",
              "      <td>50000.0</td>\n",
              "      <td>Australia</td>\n",
              "      <td>Australian</td>\n",
              "    </tr>\n",
              "    <tr>\n",
              "      <th>6701</th>\n",
              "      <td>30.0</td>\n",
              "      <td>Female</td>\n",
              "      <td>Bachelor's</td>\n",
              "      <td>Financial Manager</td>\n",
              "      <td>4.0</td>\n",
              "      <td>55000.0</td>\n",
              "      <td>China</td>\n",
              "      <td>Chinese</td>\n",
              "    </tr>\n",
              "    <tr>\n",
              "      <th>6702</th>\n",
              "      <td>46.0</td>\n",
              "      <td>Male</td>\n",
              "      <td>Master's</td>\n",
              "      <td>Marketing Manager</td>\n",
              "      <td>14.0</td>\n",
              "      <td>140000.0</td>\n",
              "      <td>China</td>\n",
              "      <td>Korean</td>\n",
              "    </tr>\n",
              "  </tbody>\n",
              "</table>\n",
              "<p>5131 rows × 8 columns</p>\n",
              "</div>\n",
              "    <div class=\"colab-df-buttons\">\n",
              "\n",
              "  <div class=\"colab-df-container\">\n",
              "    <button class=\"colab-df-convert\" onclick=\"convertToInteractive('df-3bfaa3ba-80e3-478a-833c-15c2660844b6')\"\n",
              "            title=\"Convert this dataframe to an interactive table.\"\n",
              "            style=\"display:none;\">\n",
              "\n",
              "  <svg xmlns=\"http://www.w3.org/2000/svg\" height=\"24px\" viewBox=\"0 -960 960 960\">\n",
              "    <path d=\"M120-120v-720h720v720H120Zm60-500h600v-160H180v160Zm220 220h160v-160H400v160Zm0 220h160v-160H400v160ZM180-400h160v-160H180v160Zm440 0h160v-160H620v160ZM180-180h160v-160H180v160Zm440 0h160v-160H620v160Z\"/>\n",
              "  </svg>\n",
              "    </button>\n",
              "\n",
              "  <style>\n",
              "    .colab-df-container {\n",
              "      display:flex;\n",
              "      gap: 12px;\n",
              "    }\n",
              "\n",
              "    .colab-df-convert {\n",
              "      background-color: #E8F0FE;\n",
              "      border: none;\n",
              "      border-radius: 50%;\n",
              "      cursor: pointer;\n",
              "      display: none;\n",
              "      fill: #1967D2;\n",
              "      height: 32px;\n",
              "      padding: 0 0 0 0;\n",
              "      width: 32px;\n",
              "    }\n",
              "\n",
              "    .colab-df-convert:hover {\n",
              "      background-color: #E2EBFA;\n",
              "      box-shadow: 0px 1px 2px rgba(60, 64, 67, 0.3), 0px 1px 3px 1px rgba(60, 64, 67, 0.15);\n",
              "      fill: #174EA6;\n",
              "    }\n",
              "\n",
              "    .colab-df-buttons div {\n",
              "      margin-bottom: 4px;\n",
              "    }\n",
              "\n",
              "    [theme=dark] .colab-df-convert {\n",
              "      background-color: #3B4455;\n",
              "      fill: #D2E3FC;\n",
              "    }\n",
              "\n",
              "    [theme=dark] .colab-df-convert:hover {\n",
              "      background-color: #434B5C;\n",
              "      box-shadow: 0px 1px 3px 1px rgba(0, 0, 0, 0.15);\n",
              "      filter: drop-shadow(0px 1px 2px rgba(0, 0, 0, 0.3));\n",
              "      fill: #FFFFFF;\n",
              "    }\n",
              "  </style>\n",
              "\n",
              "    <script>\n",
              "      const buttonEl =\n",
              "        document.querySelector('#df-3bfaa3ba-80e3-478a-833c-15c2660844b6 button.colab-df-convert');\n",
              "      buttonEl.style.display =\n",
              "        google.colab.kernel.accessAllowed ? 'block' : 'none';\n",
              "\n",
              "      async function convertToInteractive(key) {\n",
              "        const element = document.querySelector('#df-3bfaa3ba-80e3-478a-833c-15c2660844b6');\n",
              "        const dataTable =\n",
              "          await google.colab.kernel.invokeFunction('convertToInteractive',\n",
              "                                                    [key], {});\n",
              "        if (!dataTable) return;\n",
              "\n",
              "        const docLinkHtml = 'Like what you see? Visit the ' +\n",
              "          '<a target=\"_blank\" href=https://colab.research.google.com/notebooks/data_table.ipynb>data table notebook</a>'\n",
              "          + ' to learn more about interactive tables.';\n",
              "        element.innerHTML = '';\n",
              "        dataTable['output_type'] = 'display_data';\n",
              "        await google.colab.output.renderOutput(dataTable, element);\n",
              "        const docLink = document.createElement('div');\n",
              "        docLink.innerHTML = docLinkHtml;\n",
              "        element.appendChild(docLink);\n",
              "      }\n",
              "    </script>\n",
              "  </div>\n",
              "\n",
              "\n",
              "<div id=\"df-6ceecb42-44ff-420e-9117-9ab317e0dc8e\">\n",
              "  <button class=\"colab-df-quickchart\" onclick=\"quickchart('df-6ceecb42-44ff-420e-9117-9ab317e0dc8e')\"\n",
              "            title=\"Suggest charts.\"\n",
              "            style=\"display:none;\">\n",
              "\n",
              "<svg xmlns=\"http://www.w3.org/2000/svg\" height=\"24px\"viewBox=\"0 0 24 24\"\n",
              "     width=\"24px\">\n",
              "    <g>\n",
              "        <path d=\"M19 3H5c-1.1 0-2 .9-2 2v14c0 1.1.9 2 2 2h14c1.1 0 2-.9 2-2V5c0-1.1-.9-2-2-2zM9 17H7v-7h2v7zm4 0h-2V7h2v10zm4 0h-2v-4h2v4z\"/>\n",
              "    </g>\n",
              "</svg>\n",
              "  </button>\n",
              "\n",
              "<style>\n",
              "  .colab-df-quickchart {\n",
              "    background-color: #E8F0FE;\n",
              "    border: none;\n",
              "    border-radius: 50%;\n",
              "    cursor: pointer;\n",
              "    display: none;\n",
              "    fill: #1967D2;\n",
              "    height: 32px;\n",
              "    padding: 0 0 0 0;\n",
              "    width: 32px;\n",
              "  }\n",
              "\n",
              "  .colab-df-quickchart:hover {\n",
              "    background-color: #E2EBFA;\n",
              "    box-shadow: 0px 1px 2px rgba(60, 64, 67, 0.3), 0px 1px 3px 1px rgba(60, 64, 67, 0.15);\n",
              "    fill: #174EA6;\n",
              "  }\n",
              "\n",
              "  [theme=dark] .colab-df-quickchart {\n",
              "    background-color: #3B4455;\n",
              "    fill: #D2E3FC;\n",
              "  }\n",
              "\n",
              "  [theme=dark] .colab-df-quickchart:hover {\n",
              "    background-color: #434B5C;\n",
              "    box-shadow: 0px 1px 3px 1px rgba(0, 0, 0, 0.15);\n",
              "    filter: drop-shadow(0px 1px 2px rgba(0, 0, 0, 0.3));\n",
              "    fill: #FFFFFF;\n",
              "  }\n",
              "</style>\n",
              "\n",
              "  <script>\n",
              "    async function quickchart(key) {\n",
              "      const charts = await google.colab.kernel.invokeFunction(\n",
              "          'suggestCharts', [key], {});\n",
              "    }\n",
              "    (() => {\n",
              "      let quickchartButtonEl =\n",
              "        document.querySelector('#df-6ceecb42-44ff-420e-9117-9ab317e0dc8e button');\n",
              "      quickchartButtonEl.style.display =\n",
              "        google.colab.kernel.accessAllowed ? 'block' : 'none';\n",
              "    })();\n",
              "  </script>\n",
              "</div>\n",
              "    </div>\n",
              "  </div>\n"
            ]
          },
          "metadata": {},
          "execution_count": 2
        }
      ]
    },
    {
      "cell_type": "markdown",
      "source": [
        "1.  Apresente as estatísticas básicas das variáveis quantitativas usando o método describe do dataframe."
      ],
      "metadata": {
        "id": "cLAzrox36oBp"
      }
    },
    {
      "cell_type": "markdown",
      "source": [
        "2.  Calcule das estatísticas básicas do atributo idade (Age) usando as funções do Pandas e compare com as geradas pelo método describe."
      ],
      "metadata": {
        "id": "MFPyu6k2vwp8"
      }
    },
    {
      "cell_type": "markdown",
      "source": [
        "3.  Crie o histograma de frequência para as variáveis Idade (Age) e Salário (Salary), usando a fórmula de Sturges."
      ],
      "metadata": {
        "id": "L1WQjauUJ44R"
      }
    },
    {
      "cell_type": "markdown",
      "source": [
        "4. Crie o boxplot para as colunas idade e salário e verifique se elas possuem algum outlier."
      ],
      "metadata": {
        "id": "C57OSBfn7KF4"
      }
    },
    {
      "cell_type": "markdown",
      "source": [
        "5. Calcule o coeficiente de correlação (pearson) entre todas as variáveis quantitativas e analise o seu resultado. Apresente também o mapa de calor."
      ],
      "metadata": {
        "id": "o8TA39-R8JlY"
      }
    },
    {
      "cell_type": "markdown",
      "source": [
        "6. Elabore o diagrama de dispersão para mostras as relações abaixo e analise os resultados, comparando com os coeficientes de correlação calculados anteriormente.\n",
        "\n",
        "\n",
        "*   Idade - Tempo de Experiência\n",
        "*   Idade - Salário\n",
        "*   Tempo de Experiência e Salário.\n",
        "\n"
      ],
      "metadata": {
        "id": "440BD_JI8TOB"
      }
    },
    {
      "cell_type": "markdown",
      "source": [
        "7. Apresente a quantidade de pessoas de cada nível educacional (tabela e gráfico de colunas)."
      ],
      "metadata": {
        "id": "DxH0ts2q87lx"
      }
    },
    {
      "cell_type": "markdown",
      "source": [
        "8. Apresente a quantidade de pessoas por por raça (apenas o gráfico de barras)\n"
      ],
      "metadata": {
        "id": "vB6yrsLW9kex"
      }
    },
    {
      "cell_type": "markdown",
      "source": [
        "9. Apresente a quantidade de pessoas por país (apenas o gráfico de pizza)"
      ],
      "metadata": {
        "id": "86q_8XwO-V3J"
      }
    },
    {
      "cell_type": "markdown",
      "source": [
        "10. Apresente o salário médio agrupado por gênero (tabela e gráfico de barras)"
      ],
      "metadata": {
        "id": "L4IMfi9E-ylZ"
      }
    },
    {
      "cell_type": "markdown",
      "source": [
        "11. Apresente o salário médio agrupado por nível educacional e gênero (tabela e gráfico de colunas) e agrupado pelos mesmos campos, porém na ordem inversa."
      ],
      "metadata": {
        "id": "9cfMWIUC_d4N"
      }
    }
  ]
}
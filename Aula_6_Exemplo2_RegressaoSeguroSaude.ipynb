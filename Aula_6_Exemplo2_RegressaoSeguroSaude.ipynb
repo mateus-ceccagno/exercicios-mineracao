{
  "cells": [
    {
      "cell_type": "markdown",
      "metadata": {
        "id": "2JtfCIogSoBw"
      },
      "source": [
        "Importa as classes necessárias\n",
        "\n",
        "\n"
      ]
    },
    {
      "cell_type": "code",
      "execution_count": null,
      "metadata": {
        "id": "_k078gLSWYLw",
        "colab": {
          "base_uri": "https://localhost:8080/"
        },
        "outputId": "4a74045e-7918-425b-d97d-903174891704"
      },
      "outputs": [
        {
          "output_type": "stream",
          "name": "stdout",
          "text": [
            "Drive already mounted at /content/gdrive; to attempt to forcibly remount, call drive.mount(\"/content/gdrive\", force_remount=True).\n"
          ]
        }
      ],
      "source": [
        "from google.colab import drive\n",
        "import pandas as pd\n",
        "import numpy as np\n",
        "import seaborn as sns\n",
        "import matplotlib.pyplot as plt\n",
        "from sklearn.model_selection import train_test_split\n",
        "from sklearn.preprocessing import LabelEncoder\n",
        "from sklearn import linear_model\n",
        "from sklearn.metrics import mean_squared_error, r2_score, accuracy_score\n",
        "\n",
        "drive.mount('/content/gdrive')"
      ]
    },
    {
      "cell_type": "markdown",
      "source": [
        "Lê o arquivo e apresenta os dados"
      ],
      "metadata": {
        "id": "LWFTVpdNPOdh"
      }
    },
    {
      "cell_type": "code",
      "execution_count": null,
      "metadata": {
        "colab": {
          "base_uri": "https://localhost:8080/",
          "height": 424
        },
        "id": "ZuSRP6j5X4lt",
        "outputId": "a467cba0-2406-43b0-e482-0566aa0e0fd2"
      },
      "outputs": [
        {
          "output_type": "execute_result",
          "data": {
            "text/plain": [
              "      age     sex     bmi  children smoker     region      charges\n",
              "0      19  female  27.900         0    yes  southwest  16884.92400\n",
              "1      18    male  33.770         1     no  southeast   1725.55230\n",
              "2      28    male  33.000         3     no  southeast   4449.46200\n",
              "3      33    male  22.705         0     no  northwest  21984.47061\n",
              "4      32    male  28.880         0     no  northwest   3866.85520\n",
              "...   ...     ...     ...       ...    ...        ...          ...\n",
              "1333   50    male  30.970         3     no  northwest  10600.54830\n",
              "1334   18  female  31.920         0     no  northeast   2205.98080\n",
              "1335   18  female  36.850         0     no  southeast   1629.83350\n",
              "1336   21  female  25.800         0     no  southwest   2007.94500\n",
              "1337   61  female  29.070         0    yes  northwest  29141.36030\n",
              "\n",
              "[1338 rows x 7 columns]"
            ],
            "text/html": [
              "\n",
              "  <div id=\"df-5fa4d304-8a71-4739-b97a-267a51925ff1\" class=\"colab-df-container\">\n",
              "    <div>\n",
              "<style scoped>\n",
              "    .dataframe tbody tr th:only-of-type {\n",
              "        vertical-align: middle;\n",
              "    }\n",
              "\n",
              "    .dataframe tbody tr th {\n",
              "        vertical-align: top;\n",
              "    }\n",
              "\n",
              "    .dataframe thead th {\n",
              "        text-align: right;\n",
              "    }\n",
              "</style>\n",
              "<table border=\"1\" class=\"dataframe\">\n",
              "  <thead>\n",
              "    <tr style=\"text-align: right;\">\n",
              "      <th></th>\n",
              "      <th>age</th>\n",
              "      <th>sex</th>\n",
              "      <th>bmi</th>\n",
              "      <th>children</th>\n",
              "      <th>smoker</th>\n",
              "      <th>region</th>\n",
              "      <th>charges</th>\n",
              "    </tr>\n",
              "  </thead>\n",
              "  <tbody>\n",
              "    <tr>\n",
              "      <th>0</th>\n",
              "      <td>19</td>\n",
              "      <td>female</td>\n",
              "      <td>27.900</td>\n",
              "      <td>0</td>\n",
              "      <td>yes</td>\n",
              "      <td>southwest</td>\n",
              "      <td>16884.92400</td>\n",
              "    </tr>\n",
              "    <tr>\n",
              "      <th>1</th>\n",
              "      <td>18</td>\n",
              "      <td>male</td>\n",
              "      <td>33.770</td>\n",
              "      <td>1</td>\n",
              "      <td>no</td>\n",
              "      <td>southeast</td>\n",
              "      <td>1725.55230</td>\n",
              "    </tr>\n",
              "    <tr>\n",
              "      <th>2</th>\n",
              "      <td>28</td>\n",
              "      <td>male</td>\n",
              "      <td>33.000</td>\n",
              "      <td>3</td>\n",
              "      <td>no</td>\n",
              "      <td>southeast</td>\n",
              "      <td>4449.46200</td>\n",
              "    </tr>\n",
              "    <tr>\n",
              "      <th>3</th>\n",
              "      <td>33</td>\n",
              "      <td>male</td>\n",
              "      <td>22.705</td>\n",
              "      <td>0</td>\n",
              "      <td>no</td>\n",
              "      <td>northwest</td>\n",
              "      <td>21984.47061</td>\n",
              "    </tr>\n",
              "    <tr>\n",
              "      <th>4</th>\n",
              "      <td>32</td>\n",
              "      <td>male</td>\n",
              "      <td>28.880</td>\n",
              "      <td>0</td>\n",
              "      <td>no</td>\n",
              "      <td>northwest</td>\n",
              "      <td>3866.85520</td>\n",
              "    </tr>\n",
              "    <tr>\n",
              "      <th>...</th>\n",
              "      <td>...</td>\n",
              "      <td>...</td>\n",
              "      <td>...</td>\n",
              "      <td>...</td>\n",
              "      <td>...</td>\n",
              "      <td>...</td>\n",
              "      <td>...</td>\n",
              "    </tr>\n",
              "    <tr>\n",
              "      <th>1333</th>\n",
              "      <td>50</td>\n",
              "      <td>male</td>\n",
              "      <td>30.970</td>\n",
              "      <td>3</td>\n",
              "      <td>no</td>\n",
              "      <td>northwest</td>\n",
              "      <td>10600.54830</td>\n",
              "    </tr>\n",
              "    <tr>\n",
              "      <th>1334</th>\n",
              "      <td>18</td>\n",
              "      <td>female</td>\n",
              "      <td>31.920</td>\n",
              "      <td>0</td>\n",
              "      <td>no</td>\n",
              "      <td>northeast</td>\n",
              "      <td>2205.98080</td>\n",
              "    </tr>\n",
              "    <tr>\n",
              "      <th>1335</th>\n",
              "      <td>18</td>\n",
              "      <td>female</td>\n",
              "      <td>36.850</td>\n",
              "      <td>0</td>\n",
              "      <td>no</td>\n",
              "      <td>southeast</td>\n",
              "      <td>1629.83350</td>\n",
              "    </tr>\n",
              "    <tr>\n",
              "      <th>1336</th>\n",
              "      <td>21</td>\n",
              "      <td>female</td>\n",
              "      <td>25.800</td>\n",
              "      <td>0</td>\n",
              "      <td>no</td>\n",
              "      <td>southwest</td>\n",
              "      <td>2007.94500</td>\n",
              "    </tr>\n",
              "    <tr>\n",
              "      <th>1337</th>\n",
              "      <td>61</td>\n",
              "      <td>female</td>\n",
              "      <td>29.070</td>\n",
              "      <td>0</td>\n",
              "      <td>yes</td>\n",
              "      <td>northwest</td>\n",
              "      <td>29141.36030</td>\n",
              "    </tr>\n",
              "  </tbody>\n",
              "</table>\n",
              "<p>1338 rows × 7 columns</p>\n",
              "</div>\n",
              "    <div class=\"colab-df-buttons\">\n",
              "\n",
              "  <div class=\"colab-df-container\">\n",
              "    <button class=\"colab-df-convert\" onclick=\"convertToInteractive('df-5fa4d304-8a71-4739-b97a-267a51925ff1')\"\n",
              "            title=\"Convert this dataframe to an interactive table.\"\n",
              "            style=\"display:none;\">\n",
              "\n",
              "  <svg xmlns=\"http://www.w3.org/2000/svg\" height=\"24px\" viewBox=\"0 -960 960 960\">\n",
              "    <path d=\"M120-120v-720h720v720H120Zm60-500h600v-160H180v160Zm220 220h160v-160H400v160Zm0 220h160v-160H400v160ZM180-400h160v-160H180v160Zm440 0h160v-160H620v160ZM180-180h160v-160H180v160Zm440 0h160v-160H620v160Z\"/>\n",
              "  </svg>\n",
              "    </button>\n",
              "\n",
              "  <style>\n",
              "    .colab-df-container {\n",
              "      display:flex;\n",
              "      gap: 12px;\n",
              "    }\n",
              "\n",
              "    .colab-df-convert {\n",
              "      background-color: #E8F0FE;\n",
              "      border: none;\n",
              "      border-radius: 50%;\n",
              "      cursor: pointer;\n",
              "      display: none;\n",
              "      fill: #1967D2;\n",
              "      height: 32px;\n",
              "      padding: 0 0 0 0;\n",
              "      width: 32px;\n",
              "    }\n",
              "\n",
              "    .colab-df-convert:hover {\n",
              "      background-color: #E2EBFA;\n",
              "      box-shadow: 0px 1px 2px rgba(60, 64, 67, 0.3), 0px 1px 3px 1px rgba(60, 64, 67, 0.15);\n",
              "      fill: #174EA6;\n",
              "    }\n",
              "\n",
              "    .colab-df-buttons div {\n",
              "      margin-bottom: 4px;\n",
              "    }\n",
              "\n",
              "    [theme=dark] .colab-df-convert {\n",
              "      background-color: #3B4455;\n",
              "      fill: #D2E3FC;\n",
              "    }\n",
              "\n",
              "    [theme=dark] .colab-df-convert:hover {\n",
              "      background-color: #434B5C;\n",
              "      box-shadow: 0px 1px 3px 1px rgba(0, 0, 0, 0.15);\n",
              "      filter: drop-shadow(0px 1px 2px rgba(0, 0, 0, 0.3));\n",
              "      fill: #FFFFFF;\n",
              "    }\n",
              "  </style>\n",
              "\n",
              "    <script>\n",
              "      const buttonEl =\n",
              "        document.querySelector('#df-5fa4d304-8a71-4739-b97a-267a51925ff1 button.colab-df-convert');\n",
              "      buttonEl.style.display =\n",
              "        google.colab.kernel.accessAllowed ? 'block' : 'none';\n",
              "\n",
              "      async function convertToInteractive(key) {\n",
              "        const element = document.querySelector('#df-5fa4d304-8a71-4739-b97a-267a51925ff1');\n",
              "        const dataTable =\n",
              "          await google.colab.kernel.invokeFunction('convertToInteractive',\n",
              "                                                    [key], {});\n",
              "        if (!dataTable) return;\n",
              "\n",
              "        const docLinkHtml = 'Like what you see? Visit the ' +\n",
              "          '<a target=\"_blank\" href=https://colab.research.google.com/notebooks/data_table.ipynb>data table notebook</a>'\n",
              "          + ' to learn more about interactive tables.';\n",
              "        element.innerHTML = '';\n",
              "        dataTable['output_type'] = 'display_data';\n",
              "        await google.colab.output.renderOutput(dataTable, element);\n",
              "        const docLink = document.createElement('div');\n",
              "        docLink.innerHTML = docLinkHtml;\n",
              "        element.appendChild(docLink);\n",
              "      }\n",
              "    </script>\n",
              "  </div>\n",
              "\n",
              "\n",
              "<div id=\"df-06f44d04-4855-425d-a5bf-0931d5004f21\">\n",
              "  <button class=\"colab-df-quickchart\" onclick=\"quickchart('df-06f44d04-4855-425d-a5bf-0931d5004f21')\"\n",
              "            title=\"Suggest charts.\"\n",
              "            style=\"display:none;\">\n",
              "\n",
              "<svg xmlns=\"http://www.w3.org/2000/svg\" height=\"24px\"viewBox=\"0 0 24 24\"\n",
              "     width=\"24px\">\n",
              "    <g>\n",
              "        <path d=\"M19 3H5c-1.1 0-2 .9-2 2v14c0 1.1.9 2 2 2h14c1.1 0 2-.9 2-2V5c0-1.1-.9-2-2-2zM9 17H7v-7h2v7zm4 0h-2V7h2v10zm4 0h-2v-4h2v4z\"/>\n",
              "    </g>\n",
              "</svg>\n",
              "  </button>\n",
              "\n",
              "<style>\n",
              "  .colab-df-quickchart {\n",
              "      --bg-color: #E8F0FE;\n",
              "      --fill-color: #1967D2;\n",
              "      --hover-bg-color: #E2EBFA;\n",
              "      --hover-fill-color: #174EA6;\n",
              "      --disabled-fill-color: #AAA;\n",
              "      --disabled-bg-color: #DDD;\n",
              "  }\n",
              "\n",
              "  [theme=dark] .colab-df-quickchart {\n",
              "      --bg-color: #3B4455;\n",
              "      --fill-color: #D2E3FC;\n",
              "      --hover-bg-color: #434B5C;\n",
              "      --hover-fill-color: #FFFFFF;\n",
              "      --disabled-bg-color: #3B4455;\n",
              "      --disabled-fill-color: #666;\n",
              "  }\n",
              "\n",
              "  .colab-df-quickchart {\n",
              "    background-color: var(--bg-color);\n",
              "    border: none;\n",
              "    border-radius: 50%;\n",
              "    cursor: pointer;\n",
              "    display: none;\n",
              "    fill: var(--fill-color);\n",
              "    height: 32px;\n",
              "    padding: 0;\n",
              "    width: 32px;\n",
              "  }\n",
              "\n",
              "  .colab-df-quickchart:hover {\n",
              "    background-color: var(--hover-bg-color);\n",
              "    box-shadow: 0 1px 2px rgba(60, 64, 67, 0.3), 0 1px 3px 1px rgba(60, 64, 67, 0.15);\n",
              "    fill: var(--button-hover-fill-color);\n",
              "  }\n",
              "\n",
              "  .colab-df-quickchart-complete:disabled,\n",
              "  .colab-df-quickchart-complete:disabled:hover {\n",
              "    background-color: var(--disabled-bg-color);\n",
              "    fill: var(--disabled-fill-color);\n",
              "    box-shadow: none;\n",
              "  }\n",
              "\n",
              "  .colab-df-spinner {\n",
              "    border: 2px solid var(--fill-color);\n",
              "    border-color: transparent;\n",
              "    border-bottom-color: var(--fill-color);\n",
              "    animation:\n",
              "      spin 1s steps(1) infinite;\n",
              "  }\n",
              "\n",
              "  @keyframes spin {\n",
              "    0% {\n",
              "      border-color: transparent;\n",
              "      border-bottom-color: var(--fill-color);\n",
              "      border-left-color: var(--fill-color);\n",
              "    }\n",
              "    20% {\n",
              "      border-color: transparent;\n",
              "      border-left-color: var(--fill-color);\n",
              "      border-top-color: var(--fill-color);\n",
              "    }\n",
              "    30% {\n",
              "      border-color: transparent;\n",
              "      border-left-color: var(--fill-color);\n",
              "      border-top-color: var(--fill-color);\n",
              "      border-right-color: var(--fill-color);\n",
              "    }\n",
              "    40% {\n",
              "      border-color: transparent;\n",
              "      border-right-color: var(--fill-color);\n",
              "      border-top-color: var(--fill-color);\n",
              "    }\n",
              "    60% {\n",
              "      border-color: transparent;\n",
              "      border-right-color: var(--fill-color);\n",
              "    }\n",
              "    80% {\n",
              "      border-color: transparent;\n",
              "      border-right-color: var(--fill-color);\n",
              "      border-bottom-color: var(--fill-color);\n",
              "    }\n",
              "    90% {\n",
              "      border-color: transparent;\n",
              "      border-bottom-color: var(--fill-color);\n",
              "    }\n",
              "  }\n",
              "</style>\n",
              "\n",
              "  <script>\n",
              "    async function quickchart(key) {\n",
              "      const quickchartButtonEl =\n",
              "        document.querySelector('#' + key + ' button');\n",
              "      quickchartButtonEl.disabled = true;  // To prevent multiple clicks.\n",
              "      quickchartButtonEl.classList.add('colab-df-spinner');\n",
              "      try {\n",
              "        const charts = await google.colab.kernel.invokeFunction(\n",
              "            'suggestCharts', [key], {});\n",
              "      } catch (error) {\n",
              "        console.error('Error during call to suggestCharts:', error);\n",
              "      }\n",
              "      quickchartButtonEl.classList.remove('colab-df-spinner');\n",
              "      quickchartButtonEl.classList.add('colab-df-quickchart-complete');\n",
              "    }\n",
              "    (() => {\n",
              "      let quickchartButtonEl =\n",
              "        document.querySelector('#df-06f44d04-4855-425d-a5bf-0931d5004f21 button');\n",
              "      quickchartButtonEl.style.display =\n",
              "        google.colab.kernel.accessAllowed ? 'block' : 'none';\n",
              "    })();\n",
              "  </script>\n",
              "</div>\n",
              "    </div>\n",
              "  </div>\n"
            ]
          },
          "metadata": {},
          "execution_count": 45
        }
      ],
      "source": [
        "dados = pd.read_csv('/content/gdrive/MyDrive/Colab Notebooks/Mineração de Dados/Aula6/insurance.csv')\n",
        "dados"
      ]
    },
    {
      "cell_type": "markdown",
      "source": [
        "Verifica se existe algum valor nulo no conjunto."
      ],
      "metadata": {
        "id": "Wk8aWNoIQyyf"
      }
    },
    {
      "cell_type": "markdown",
      "source": [
        "Como existem três atributos qualitativos, eles devem ser convertidas em valores quantitativos para serem incorporados ao modelo. Embora todos eles sejam nominais, não será usado o método **get_dummies** do Pandas, que é o mais indicado neste caso para gerar uma representação binária. Neste exemplo, será usado o **LabelEnconder** para gerar um código numérico para cada valor, de forma a não gerar colunas extras visando simplificar os cálculos solicitados posteriormente.\n",
        "\n",
        "Um novo dataset será gerado para não sobrepor os dados originais que serão usados posteriormente."
      ],
      "metadata": {
        "id": "Ig2cHAFfFrGV"
      }
    },
    {
      "cell_type": "markdown",
      "source": [
        "Para criar um modelo considerando todas os atributos disponíveis como variáveis independentes (exceto o atributo **charges** que é o que se deseja estimar) deve-se:\n",
        "1. Armazenar os dados de todas as colunas, exceto da coluna charges, na variável X, que é uma lista de listas.\n",
        "2. Armazenar os dados da coluna charges na variável y, que é uma lista de valores numéricos.\n",
        "3. Usar a função train_test_split para dividir os dados em 67% para o conjunto de treinamento e 33% para o conjunto de teste.\n",
        "\n",
        "A lista X é divida em X_train e X_test, e a lista y em y_train e y_test. O parâmetro shuffle indica que a divisão será aleatória e não sequencial e o parâmetro random_state indica o valor inicial da aleatorização (semente) para poder repetir os mesmos valores em diferentes execuções."
      ],
      "metadata": {
        "id": "31ZxZ7WMS6nm"
      }
    },
    {
      "cell_type": "code",
      "source": [
        "X = dados2.drop(['charges'] ,axis='columns')\n",
        "y = dados2['charges']\n",
        "\n",
        "X_train, X_test, y_train, y_test = train_test_split(X, y, test_size=0.33, random_state=42, shuffle=True)\n",
        "\n",
        "print('X - Treinamento: ')\n",
        "print(X_train)\n",
        "print('Y - Treinamento: ')\n",
        "print(y_train)\n",
        "print('X - Teste: ')\n",
        "print(X_test)\n",
        "print('Y -Teste: ')\n",
        "print(y_test)\n"
      ],
      "metadata": {
        "id": "-_N6cSKWJ9ME",
        "colab": {
          "base_uri": "https://localhost:8080/"
        },
        "outputId": "d49afca0-20a3-4a28-d8df-2a4cfae45214"
      },
      "execution_count": null,
      "outputs": [
        {
          "output_type": "stream",
          "name": "stdout",
          "text": [
            "X - Treinamento: \n",
            "      age  sex     bmi  children  smoker  region\n",
            "1046   43    0  25.080         0       0       0\n",
            "682    39    1  35.300         2       1       3\n",
            "1037   45    0  30.495         1       1       1\n",
            "490    19    0  32.900         0       0       3\n",
            "39     60    1  39.900         0       1       3\n",
            "...   ...  ...     ...       ...     ...     ...\n",
            "1095   18    0  31.350         4       0       0\n",
            "1130   39    0  23.870         5       0       2\n",
            "1294   58    1  25.175         0       0       0\n",
            "860    37    0  47.600         2       1       3\n",
            "1126   55    1  29.900         0       0       3\n",
            "\n",
            "[896 rows x 6 columns]\n",
            "Y - Treinamento: \n",
            "1046     7325.04820\n",
            "682     40103.89000\n",
            "1037    39725.51805\n",
            "490      1748.77400\n",
            "39      48173.36100\n",
            "           ...     \n",
            "1095     4561.18850\n",
            "1130     8582.30230\n",
            "1294    11931.12525\n",
            "860     46113.51100\n",
            "1126    10214.63600\n",
            "Name: charges, Length: 896, dtype: float64\n",
            "X - Teste: \n",
            "      age  sex     bmi  children  smoker  region\n",
            "764    45    0  25.175         2       0       0\n",
            "887    36    0  30.020         0       0       1\n",
            "890    64    0  26.885         0       1       1\n",
            "1293   46    1  25.745         3       0       1\n",
            "259    19    1  31.920         0       1       1\n",
            "...   ...  ...     ...       ...     ...     ...\n",
            "644    43    1  35.310         2       0       2\n",
            "602    56    0  25.300         0       0       3\n",
            "731    53    1  21.400         1       0       3\n",
            "321    26    0  29.640         4       0       0\n",
            "479    23    1  32.560         0       0       2\n",
            "\n",
            "[442 rows x 6 columns]\n",
            "Y -Teste: \n",
            "764      9095.06825\n",
            "887      5272.17580\n",
            "890     29330.98315\n",
            "1293     9301.89355\n",
            "259     33750.29180\n",
            "           ...     \n",
            "644     18806.14547\n",
            "602     11070.53500\n",
            "731     10065.41300\n",
            "321     24671.66334\n",
            "479      1824.28540\n",
            "Name: charges, Length: 442, dtype: float64\n"
          ]
        }
      ]
    },
    {
      "cell_type": "markdown",
      "source": [
        "1. Cria o modelo;\n",
        "2. Treina o modelo, a partir dos dados de treinamento;\n",
        "3. Calcula os valores o conjunto de teste;\n",
        "4. Apresenta os coeficientes da reta;\n",
        "5. Calcula e apresenta o coeficiente de determinação (r2).\n",
        "6. Calcula e apresenta o erro médio quadrado (mse)."
      ],
      "metadata": {
        "id": "IjBDPDx0YITF"
      }
    },
    {
      "cell_type": "code",
      "source": [
        "modelo = linear_model.LinearRegression()\n",
        "modelo.fit(X_train, y_train)\n",
        "y_pred = modelo.predict(X_test)\n",
        "a = modelo.coef_\n",
        "b =  modelo.intercept_\n",
        "r2 = r2_score(y_test, y_pred)\n",
        "mse = mean_squared_error(y_test, y_pred)\n",
        "\n",
        "print(\"Coeficientes da reta: \\n\")\n",
        "print(\"a = \",a)\n",
        "print(\"b = \",b)\n",
        "print(\"Coeficiente de determinação: \", r2)\n",
        "print(\"Erro quadrado médio: \",mse)"
      ],
      "metadata": {
        "colab": {
          "base_uri": "https://localhost:8080/"
        },
        "id": "G-81I3uudWhm",
        "outputId": "e8031d49-6c83-4a3b-8562-d14a34a6e73d"
      },
      "execution_count": null,
      "outputs": [
        {
          "output_type": "stream",
          "name": "stdout",
          "text": [
            "Coeficientes da reta: \n",
            "\n",
            "a =  [  262.00518915   129.10270377   342.2658478    373.20803797\n",
            " 23693.32775546  -294.4964067 ]\n",
            "b =  -12368.529203578068\n",
            "Coeficiente de determinação:  0.7602640802497018\n",
            "Erro quadrado médio:  35132017.869487904\n"
          ]
        }
      ]
    },
    {
      "cell_type": "markdown",
      "source": [
        "Calcula o custo, a partir dos coeficientes do modelo para uma pessoa com as seguintes características:\n",
        "1.   Age: 50;\n",
        "2.   Sex: 1 (Male)\n",
        "3.   BMI: 30\n",
        "4.   Children: 2\n",
        "5.   Smoker: 1 (yes)\n",
        "6.   Region: 1 (northwest)"
      ],
      "metadata": {
        "id": "tN_jwEgI7zPK"
      }
    },
    {
      "cell_type": "markdown",
      "source": [
        "Calcula o valor previsto para o seguro usando o método **predict** do modelo criado. São passados por parâmetro os dados de duas pessoas, uma com os mesmos valores do cálculo acima e outra alterando o valor do atributo **smoker** de *yes* para *no*."
      ],
      "metadata": {
        "id": "3IiI4uq3xIYv"
      }
    },
    {
      "cell_type": "code",
      "source": [
        "seguro = modelo.predict([[50,1,30,2,1,1],[50,1,30,2,0,1]])\n",
        "print(f'Valor do seguro da pessoa 1: {seguro[0]:.2f}')\n",
        "print(f'Valor do seguro da pessoa 2: {seguro[1]:.2f}')"
      ],
      "metadata": {
        "colab": {
          "base_uri": "https://localhost:8080/"
        },
        "id": "8xguBLBj6d4h",
        "outputId": "cef9d53a-b337-44a3-fec4-51b7c8a10fc7"
      },
      "execution_count": null,
      "outputs": [
        {
          "output_type": "stream",
          "name": "stdout",
          "text": [
            "Valor do seguro da pessoa 1: 35274.06\n",
            "Valor do seguro da pessoa 2: 11580.73\n"
          ]
        },
        {
          "output_type": "stream",
          "name": "stderr",
          "text": [
            "/usr/local/lib/python3.10/dist-packages/sklearn/base.py:439: UserWarning: X does not have valid feature names, but LinearRegression was fitted with feature names\n",
            "  warnings.warn(\n"
          ]
        }
      ]
    },
    {
      "cell_type": "markdown",
      "source": [
        "No modelo criado, foram utilizados todos os atributos existentes no dataset. Abaixo, a relevância de cada atributo é analisada e um novo modelo criado visando reduzir a possibilidade de *overfitting\"."
      ],
      "metadata": {
        "id": "w3eSUuE32FTa"
      }
    },
    {
      "cell_type": "markdown",
      "source": [
        "Cálculo do coeficiente de correlação e geração do mapa de calor para analisar a relação entre as variáveis quantitativas."
      ],
      "metadata": {
        "id": "nJ7adWsKaILO"
      }
    },
    {
      "cell_type": "markdown",
      "source": [
        "Como a variável **age** foi a que apresentou a maior correlação, pode-se gerar um diagrama de dispersão para compreender melhor esta relação."
      ],
      "metadata": {
        "id": "LAT10r6G3KH7"
      }
    },
    {
      "cell_type": "markdown",
      "source": [
        "Analisando o diagrama de dispersão acima, é possível perceber que o atributo idade influencia no valor a ser pago, mas existem \"três grupos\" que devem ser influenciadas por outras variáveis. Abaixo são gerados alguns outros diagramas de dispersão relacionando idade e valor pago, porém com cores para diferenciar as categorias de outras variáveis que podem estar influenciando no resultado."
      ],
      "metadata": {
        "id": "RualIluOdN3l"
      }
    },
    {
      "cell_type": "markdown",
      "source": [
        "Analisando os gráficos percebe-se que a variável smoker (se é fumante ou não) é que mais diferencia os elementos, por isto vamos incluí-la ao modelo, junto com a idade."
      ],
      "metadata": {
        "id": "OVBIN76beBzm"
      }
    },
    {
      "cell_type": "markdown",
      "source": [
        "Considerando que o atributo **bmi** possui uma pequena correlação com **charges**, e a influência detectada anteriormente do atributo **smoker** pode-se elaborar um diagrama de dispersão relacionando estes três atributos para analisar a sua relação."
      ],
      "metadata": {
        "id": "Oiv1qvqyduGY"
      }
    }
  ],
  "metadata": {
    "colab": {
      "provenance": []
    },
    "kernelspec": {
      "display_name": "Python 3",
      "name": "python3"
    },
    "language_info": {
      "name": "python"
    }
  },
  "nbformat": 4,
  "nbformat_minor": 0
}
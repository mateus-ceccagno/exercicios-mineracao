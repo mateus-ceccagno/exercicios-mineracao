{
  "nbformat": 4,
  "nbformat_minor": 0,
  "metadata": {
    "colab": {
      "provenance": []
    },
    "kernelspec": {
      "name": "python3",
      "display_name": "Python 3"
    },
    "language_info": {
      "name": "python"
    }
  },
  "cells": [
    {
      "cell_type": "markdown",
      "source": [
        "1) Importe as bibliotecas necessárias e faça a montagem do drive."
      ],
      "metadata": {
        "id": "lKioY6hEpEbL"
      }
    },
    {
      "cell_type": "markdown",
      "source": [
        "2)  Realize a leitura do dataset disponível no SIGAA e apresente os dados lidos."
      ],
      "metadata": {
        "id": "Tsx8ltDxp47e"
      }
    },
    {
      "cell_type": "markdown",
      "source": [
        "3) Exclua os seguintes atributos e apresente o dataset resultante:\n",
        "*   Unnamed: 0\n",
        "*   NEIGHBORHOOD\n",
        "*   BUILDING CLASS CATEGORY\n",
        "*   TAX CLASS AT PRESENT\n",
        "*   BLOCK\n",
        "*   LOT\n",
        "*   EASE-MENT\n",
        "*   BUILDING CLASS AT PRESENT\n",
        "*   ADDRESS\n",
        "*   APARTMENT NUMBER             \n",
        "*   ZIP CODE\n",
        "*   GROSS SQUARE FEET\n",
        "*   BUILDING CLASS AT TIME OF SALE\n",
        "*   SALE DATE"
      ],
      "metadata": {
        "id": "yg-Bl5aF1HWD"
      }
    },
    {
      "cell_type": "markdown",
      "source": [
        "4) Calcule a apresente a quantidade de registros em branco para cada atributo."
      ],
      "metadata": {
        "id": "E-sCzpOjsHUL"
      }
    },
    {
      "cell_type": "markdown",
      "source": [
        "5) Apague todos os registros com valores nulos."
      ],
      "metadata": {
        "id": "Y2lenPpQ4t3S"
      }
    },
    {
      "cell_type": "markdown",
      "source": [
        "6) Apresente a lista com os atributos restantes e os tipos de cada um deles."
      ],
      "metadata": {
        "id": "z2zdEDQF3Ncy"
      }
    },
    {
      "cell_type": "markdown",
      "source": [
        "7) O tipo das colunas SALE PRICE e LAND SQUARE FEET está como object porque existiam valores nulos. Altere os tipos destas colunas para float e apresente novamente as colunas com seus tipos."
      ],
      "metadata": {
        "id": "fQ1XjDWG8qDk"
      }
    },
    {
      "cell_type": "markdown",
      "source": [
        "8) Embora o atributo **BOROUGH** esteja representado por valores de 1 a 5, ele é um atributo nominal que indica a região onde o imóvel está localizado, conforme códigos abaixo:\n",
        "\n",
        "Manhattan (1), Bronx (2), Brooklyn (3), Queens (4) e Staten Island (5).\n",
        "\n",
        "O mesmo problema acontece com o atributo **TAX CLASS AT TIME OF SALE** que possui valores entre 1 e 4, mas que representam classes diferentes, tais como:\n",
        "\n",
        "Classe 1 (1), Classe 2(2), Classe 3(3) e Classe 4(4).\n",
        "\n",
        "Para evitar confusão no momento da análise dos dados e do treinamento do modelo, subtitua os valores numéricos pelos nomes correspondentes."
      ],
      "metadata": {
        "id": "bnvILDw06c2i"
      }
    },
    {
      "cell_type": "markdown",
      "source": [
        "Elimine os outliers dos atributos **LAND SQUARE FEET** e **SALE PRICE**. Considere outlier os valores que estiverem a mais ou a menos de 3 desvios padrões da média."
      ],
      "metadata": {
        "id": "BD_CynbhY4_e"
      }
    },
    {
      "cell_type": "markdown",
      "source": [
        "9) Apresente os outliers do atributo LAND SQUARE FEET."
      ],
      "metadata": {
        "id": "hVuUDX17aKA9"
      }
    },
    {
      "cell_type": "markdown",
      "source": [
        "10) Elimine os outliers do atributo LAND SQUARE FEET"
      ],
      "metadata": {
        "id": "uuMCQrV_aUw-"
      }
    },
    {
      "cell_type": "markdown",
      "source": [
        "11) Apresente os outliers do atributo SALE PRICE."
      ],
      "metadata": {
        "id": "o-Yy2uA7alWP"
      }
    },
    {
      "cell_type": "markdown",
      "source": [
        "12) Elimine os outliers do atributo SALE PRICE"
      ],
      "metadata": {
        "id": "WPHIlzLaaqNm"
      }
    },
    {
      "cell_type": "markdown",
      "source": [
        "13) Calcule a correlação entre as variáveis numéricas e apresente o mapa de calor."
      ],
      "metadata": {
        "id": "z6Oe3_Cv7iWy"
      }
    },
    {
      "cell_type": "markdown",
      "source": [
        "14) Crie um diagrama de dispersão para apresentar a relação entre os atributos LAND SQUARE FEET e SALE PRICE, usando o atributo BOROUGH para atribuir cores diferentes aos pontos."
      ],
      "metadata": {
        "id": "B2ELy8f9AZ4M"
      }
    },
    {
      "cell_type": "markdown",
      "source": [
        "15) Crie um gráfico de colunas para apresentar a média da variável SALE PRICE para cada valor do atributo BOROUGH."
      ],
      "metadata": {
        "id": "u5zP06EjbSON"
      }
    },
    {
      "cell_type": "markdown",
      "source": [
        "16) Crie um gráfico de colunas para apresentar a média da variável SALE PRICE para cada valor do atributo TAX CLASS AT TIME OF SALE."
      ],
      "metadata": {
        "id": "dr6QFPQNbfCO"
      }
    },
    {
      "cell_type": "markdown",
      "source": [
        "17) Altere a representação dos campos BOROUGH e TAX CLASS AT TIME OF SALE para a codificação binária."
      ],
      "metadata": {
        "id": "NuZt98CDdHep"
      }
    },
    {
      "cell_type": "markdown",
      "source": [
        "18) Crie um modelo de regressão com todos os atributos. Os dados devem ser divididos da seguinte maneira: 67% para treinamento e 33% para testes. Além disto, use o valor 0 como a semente aleatória deste método.\n",
        "\n",
        "Apresente os coeficientes da equação e o valor de r2 deste modelo.\n",
        "\n"
      ],
      "metadata": {
        "id": "66QfRVNFeaIW"
      }
    },
    {
      "cell_type": "markdown",
      "source": [
        "19) Crie um modelo de regressão com menos atributos (o método para escolha dos atributos fica à escolha do aluno). Os dados devem ser divididos da seguinte maneira: 67% para treinamento e 33% para testes. Além disto, use o valor 0 como a semente aleatória deste método.\n",
        "\n",
        "Apresente os coeficientes da equação e o valor de r2 deste modelo.\n"
      ],
      "metadata": {
        "id": "vRP0WsR2f-gP"
      }
    },
    {
      "cell_type": "markdown",
      "source": [
        "20)Compare os resultados e indique qual dos modelos você escolheria. Justifique sua resposta."
      ],
      "metadata": {
        "id": "zSMyVT55hhif"
      }
    }
  ]
}